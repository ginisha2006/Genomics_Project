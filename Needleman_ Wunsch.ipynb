{
  "metadata": {
    "kernelspec": {
      "name": "python",
      "display_name": "Python (Pyodide)",
      "language": "python"
    },
    "language_info": {
      "codemirror_mode": {
        "name": "python",
        "version": 3
      },
      "file_extension": ".py",
      "mimetype": "text/x-python",
      "name": "python",
      "nbconvert_exporter": "python",
      "pygments_lexer": "ipython3",
      "version": "3.8"
    }
  },
  "nbformat_minor": 4,
  "nbformat": 4,
  "cells": [
    {
      "cell_type": "code",
      "source": "import numpy as np\n\n#sequence_1 = input(\"Enter sequence 1:\")\n#sequence_2 = input(\"Enter sequence 2:\")\n\nsequence_2 = \"CGTGGACTTGCTTACGTACCGTGCCGATGCC\"\nsequence_1 = \"GACTGGCTAGTTCAGTCTGACTGGCTAGCTA\"\n\nmain_matrix = np.zeros((len(sequence_1)+1,len(sequence_2)+1))\nmatch_checker_matrix = np.zeros((len(sequence_1),len(sequence_2)))\n\n# Defining the scoring matrix\nmatch_reward = 1\nmismatch_penalty = -1\ngap_penalty = -2\n\n# Initialising the match_checker_matrix which keeps tracks of all the matches\nfor i in range(len(sequence_1)):\n    for j in range(len(sequence_2)):\n        if sequence_1[i] == sequence_2[j]:\n            match_checker_matrix[i][j]= match_reward\n        else:\n            match_checker_matrix[i][j]= mismatch_penalty\n\n#print(match_checker_matrix)\n\n#STEP 1 : Initialisation\n\n# Initilising the main matrix with gap penalties\nfor i in range(len(sequence_1)+1):\n    main_matrix[i][0] = i*gap_penalty\nfor j in range(len(sequence_2)+1):\n    main_matrix[0][j] = j * gap_penalty\n\n#STEP 2 : Matrix Filling\n\n# Matrix filling by comparing all three possible cases\nfor i in range(1,len(sequence_1)+1):\n    for j in range(1,len(sequence_2)+1):\n        main_matrix[i][j] = max(main_matrix[i-1][j-1]+match_checker_matrix[i-1][j-1],\n                                main_matrix[i-1][j]+gap_penalty,\n                                main_matrix[i][j-1]+ gap_penalty)\n\nprint(main_matrix, '\\n')\n\n# STEP 3 : Traceback\naligned_1 = \"\"\naligned_2 = \"\"\n\nti = len(sequence_1)\ntj = len(sequence_2)\n\nwhile(ti > 0 and tj > 0):\n\n    # Comparing for diagonal match or mismatch\n    if (ti > 0 and tj > 0 and main_matrix[ti][tj] == main_matrix[ti-1][tj-1]+ match_checker_matrix[ti-1][tj-1]):\n\n        aligned_1 = sequence_1[ti-1] + aligned_1\n        aligned_2 = sequence_2[tj-1] + aligned_2\n\n        ti = ti - 1\n        tj = tj - 1\n\n    # Comparing for gap from upper side\n    elif(ti > 0 and main_matrix[ti][tj] == main_matrix[ti-1][tj] + gap_penalty):\n        aligned_1 = sequence_1[ti-1] + aligned_1\n        aligned_2 = \"-\" + aligned_2\n\n        ti = ti -1\n\n    # Comparing for gap from left side\n    else:\n        aligned_1 = \"-\" + aligned_1\n        aligned_2 = sequence_2[tj-1] + aligned_2\n\n        tj = tj - 1\n\nprint(aligned_1)\nprint(aligned_2)",
      "metadata": {
        "trusted": true
      },
      "outputs": [],
      "execution_count": null
    },
    {
      "cell_type": "code",
      "source": "",
      "metadata": {
        "trusted": true
      },
      "outputs": [],
      "execution_count": null
    },
    {
      "cell_type": "code",
      "source": "",
      "metadata": {
        "trusted": true
      },
      "outputs": [],
      "execution_count": null
    }
  ]
}